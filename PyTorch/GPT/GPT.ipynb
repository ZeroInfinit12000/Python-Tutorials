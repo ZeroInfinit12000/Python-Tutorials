{
 "cells": [
  {
   "cell_type": "code",
   "execution_count": 2,
   "metadata": {},
   "outputs": [
    {
     "data": {
      "text/plain": [
       "('input.txt', <http.client.HTTPMessage at 0x1ea93480a30>)"
      ]
     },
     "execution_count": 2,
     "metadata": {},
     "output_type": "execute_result"
    }
   ],
   "source": [
    "# We always start with a dataset to train on. Let's download the tiny shakespeare dataset\n",
    "import urllib.request\n",
    "url = \"https://raw.githubusercontent.com/karpathy/char-rnn/master/data/tinyshakespeare/input.txt\"\n",
    "destination = 'input.txt'\n",
    "urllib.request.urlretrieve(url, destination)"
   ]
  },
  {
   "cell_type": "code",
   "execution_count": 3,
   "metadata": {},
   "outputs": [
    {
     "name": "stdout",
     "output_type": "stream",
     "text": [
      "length of dataset in characters:  1115394\n",
      "Sample of first 3 characters: `Fir`\n",
      "Sample of first 1000 characers: \n",
      " `First Citizen:\n",
      "Before we proceed any further, hear me speak.\n",
      "\n",
      "All:\n",
      "Speak, speak.\n",
      "\n",
      "First Citizen:\n",
      "You are all resolved rather to die than to famish?\n",
      "\n",
      "All:\n",
      "Resolved. resolved.\n",
      "\n",
      "First Citizen:\n",
      "First, you know Caius Marcius is chief enemy to the people.\n",
      "\n",
      "All:\n",
      "We know't, we know't.\n",
      "\n",
      "First Citizen:\n",
      "Let us kill him, and we'll have corn at our own price.\n",
      "Is't a verdict?\n",
      "\n",
      "All:\n",
      "No more talking on't; let it be done: away, away!\n",
      "\n",
      "Second Citizen:\n",
      "One word, good citizens.\n",
      "\n",
      "First Citizen:\n",
      "We are accounted poor citizens, the patricians good.\n",
      "What authority surfeits on would relieve us: if they\n",
      "would yield us but the superfluity, while it were\n",
      "wholesome, we might guess they relieved us humanely;\n",
      "but they think we are too dear: the leanness that\n",
      "afflicts us, the object of our misery, is as an\n",
      "inventory to particularise their abundance; our\n",
      "sufferance is a gain to them Let us revenge this with\n",
      "our pikes, ere we become rakes: for the gods know I\n",
      "speak this in hunger for bread, not in thirst for revenge.\n",
      "\n",
      "`\n"
     ]
    }
   ],
   "source": [
    "# read it in to inspect it\n",
    "with open('input.txt', 'r', encoding='utf-8') as f:\n",
    "    text = f.read()\n",
    "print(\"length of dataset in characters: \", len(text))\n",
    "print(f\"Sample of first 3 characters: `{text[:3]}`\")\n",
    "print(f\"Sample of first 1000 characers: \\n `{text[:1000]}`\")"
   ]
  },
  {
   "cell_type": "code",
   "execution_count": 4,
   "metadata": {},
   "outputs": [
    {
     "name": "stdout",
     "output_type": "stream",
     "text": [
      "Distinct possible characters: \n",
      " !$&',-.3:;?ABCDEFGHIJKLMNOPQRSTUVWXYZabcdefghijklmnopqrstuvwxyz\n",
      "Vocabulary size: 65\n"
     ]
    }
   ],
   "source": [
    "# here are all the unique characters that occur in this text\n",
    "chars = sorted(list(set(text))) #Set> No duplicates, list> oredenable, sorted> order\n",
    "vocab_size = len(chars)\n",
    "print(\"Distinct possible characters:\",''.join(chars))\n",
    "print(\"Vocabulary size:\",vocab_size)"
   ]
  },
  {
   "cell_type": "code",
   "execution_count": 5,
   "metadata": {},
   "outputs": [
    {
     "name": "stdout",
     "output_type": "stream",
     "text": [
      "[46, 47, 47, 1, 58, 46, 43, 56, 43]\n",
      "hii there\n"
     ]
    }
   ],
   "source": [
    "# Tokenization of the text:\n",
    "# create a mapping from characters to integers\n",
    "stoi = { ch:i for i,ch in enumerate(chars) }\n",
    "#print(stoi)\n",
    "itos = { i:ch for i,ch in enumerate(chars) }\n",
    "#print(itos)\n",
    "encode = lambda s: [stoi[c] for c in s] # encoder: take a string, output a list of integers\n",
    "decode = lambda l: ''.join([itos[i] for i in l]) # decoder: take a list of integers, output a string\n",
    "\n",
    "print(encode(\"hii there\"))\n",
    "print(decode(encode(\"hii there\")))"
   ]
  },
  {
   "cell_type": "code",
   "execution_count": 6,
   "metadata": {},
   "outputs": [
    {
     "name": "stdout",
     "output_type": "stream",
     "text": [
      "Tneosr shape and data type: torch.Size([1115394]) torch.int64\n",
      "First 10 character encoded: tensor([18, 47, 56, 57, 58,  1, 15, 47, 58, 47])\n"
     ]
    }
   ],
   "source": [
    "# let's now encode the entire text dataset and store it into a torch.Tensor\n",
    "import torch # we use PyTorch: https://pytorch.org\n",
    "data = torch.tensor(encode(text), dtype=torch.long)\n",
    "print(\"Tneosr shape and data type:\",data.shape, data.dtype)\n",
    "print(\"First 10 character encoded:\",data[:10]) "
   ]
  },
  {
   "cell_type": "code",
   "execution_count": 7,
   "metadata": {},
   "outputs": [],
   "source": [
    "#Test train split\n",
    "from sklearn.model_selection import train_test_split\n",
    "train_data,val_data = train_test_split(data,test_size=0.1,random_state=12312)"
   ]
  },
  {
   "cell_type": "code",
   "execution_count": 8,
   "metadata": {},
   "outputs": [
    {
     "data": {
      "text/plain": [
       "tensor([ 1,  5, 52, 43,  0, 58,  1, 47, 42])"
      ]
     },
     "execution_count": 8,
     "metadata": {},
     "output_type": "execute_result"
    }
   ],
   "source": [
    "#Block size is basically the context lenght. A block size of 8 has multiple examples packed into it!\n",
    "block_size = 8\n",
    "train_data[:block_size+1]"
   ]
  },
  {
   "cell_type": "code",
   "execution_count": 10,
   "metadata": {},
   "outputs": [
    {
     "name": "stdout",
     "output_type": "stream",
     "text": [
      "when input is tensor([1]) the target: 5\n",
      "when input is tensor([1, 5]) the target: 52\n",
      "when input is tensor([ 1,  5, 52]) the target: 43\n",
      "when input is tensor([ 1,  5, 52, 43]) the target: 0\n",
      "when input is tensor([ 1,  5, 52, 43,  0]) the target: 58\n",
      "when input is tensor([ 1,  5, 52, 43,  0, 58]) the target: 1\n",
      "when input is tensor([ 1,  5, 52, 43,  0, 58,  1]) the target: 47\n",
      "when input is tensor([ 1,  5, 52, 43,  0, 58,  1, 47]) the target: 42\n"
     ]
    }
   ],
   "source": [
    "#This is how this stuff works. Basically, given the previous encoded characters as input, it must predict the target character that follows itself.\n",
    "#A block size of 8 means that it will got 8 example to predict, so when training it, we will make it so that it will make predictions on ALL 8 positions simultaneously.\n",
    "x = train_data[:block_size]\n",
    "y = train_data[1:block_size+1]\n",
    "for t in range(block_size):\n",
    "    context = x[:t+1]\n",
    "    target = y[t]\n",
    "    print(f\"when input is {context} the target: {target}\")"
   ]
  },
  {
   "cell_type": "code",
   "execution_count": 13,
   "metadata": {},
   "outputs": [
    {
     "name": "stdout",
     "output_type": "stream",
     "text": [
      "tensor([ 76049, 234249, 934904, 560986])\n",
      "inputs:\n",
      "torch.Size([4, 8])\n",
      "tensor([[53, 42, 32, 15, 41, 53,  1,  1],\n",
      "        [43,  1, 49, 56, 63,  0, 41, 56],\n",
      "        [ 1, 58, 45, 47, 52, 42,  1, 47],\n",
      "        [59,  1, 57,  1, 43, 60, 42, 59]])\n",
      "targets:\n",
      "torch.Size([4, 8])\n",
      "tensor([[42, 32, 15, 41, 53,  1,  1, 41],\n",
      "        [ 1, 49, 56, 63,  0, 41, 56, 51],\n",
      "        [58, 45, 47, 52, 42,  1, 47, 43],\n",
      "        [ 1, 57,  1, 43, 60, 42, 59,  0]])\n",
      "----\n",
      "when input is [53] the target: 42\n",
      "when input is [53, 42] the target: 32\n",
      "when input is [53, 42, 32] the target: 15\n",
      "when input is [53, 42, 32, 15] the target: 41\n",
      "when input is [53, 42, 32, 15, 41] the target: 53\n",
      "when input is [53, 42, 32, 15, 41, 53] the target: 1\n",
      "when input is [53, 42, 32, 15, 41, 53, 1] the target: 1\n",
      "when input is [53, 42, 32, 15, 41, 53, 1, 1] the target: 41\n",
      "when input is [43] the target: 1\n",
      "when input is [43, 1] the target: 49\n",
      "when input is [43, 1, 49] the target: 56\n",
      "when input is [43, 1, 49, 56] the target: 63\n",
      "when input is [43, 1, 49, 56, 63] the target: 0\n",
      "when input is [43, 1, 49, 56, 63, 0] the target: 41\n",
      "when input is [43, 1, 49, 56, 63, 0, 41] the target: 56\n",
      "when input is [43, 1, 49, 56, 63, 0, 41, 56] the target: 51\n",
      "when input is [1] the target: 58\n",
      "when input is [1, 58] the target: 45\n",
      "when input is [1, 58, 45] the target: 47\n",
      "when input is [1, 58, 45, 47] the target: 52\n",
      "when input is [1, 58, 45, 47, 52] the target: 42\n",
      "when input is [1, 58, 45, 47, 52, 42] the target: 1\n",
      "when input is [1, 58, 45, 47, 52, 42, 1] the target: 47\n",
      "when input is [1, 58, 45, 47, 52, 42, 1, 47] the target: 43\n",
      "when input is [59] the target: 1\n",
      "when input is [59, 1] the target: 57\n",
      "when input is [59, 1, 57] the target: 1\n",
      "when input is [59, 1, 57, 1] the target: 43\n",
      "when input is [59, 1, 57, 1, 43] the target: 60\n",
      "when input is [59, 1, 57, 1, 43, 60] the target: 42\n",
      "when input is [59, 1, 57, 1, 43, 60, 42] the target: 59\n",
      "when input is [59, 1, 57, 1, 43, 60, 42, 59] the target: 0\n",
      "\n"
     ]
    }
   ],
   "source": [
    "torch.manual_seed(1337)\n",
    "batch_size = 4 # how many independent sequences will we process in parallel?\n",
    "block_size = 8 # what is the maximum context length for predictions?\n",
    "\n",
    "def get_batch(split):\n",
    "    # generate a small batch of data of inputs x and targets y\n",
    "    data = train_data if split == 'train' else val_data\n",
    "    ix = torch.randint(len(data) - block_size, (batch_size,)) #Pick batch_size random numbers between the training data numbers with index len(data) - enoguh so as to have 1 full set of examples. Output: 4 random integers.\n",
    "    x = torch.stack([data[i:i+block_size] for i in ix])  # The first block size characters starting at i, till you get 8 consecutives. This repeted i times. In this case,\n",
    "    #we got a 4*8 matrix output.\n",
    "    y = torch.stack([data[i+1:i+block_size+1] for i in ix]) # Offset by 1 x, this will be our targets.\n",
    "    return x, y\n",
    "\n",
    "xb, yb = get_batch('train')\n",
    "print('inputs:')\n",
    "print(xb.shape)\n",
    "print(xb)\n",
    "print('targets:')\n",
    "print(yb.shape)\n",
    "print(yb)\n",
    "\n",
    "print('----')\n",
    "\n",
    "for b in range(batch_size): # batch dimension\n",
    "    for t in range(block_size): # time dimension\n",
    "        context = xb[b, :t+1]\n",
    "        target = yb[b,t]\n",
    "        print(f\"when input is {context.tolist()} the target: {target}\")\n",
    "print(\"\")"
   ]
  },
  {
   "attachments": {
    "image.png": {
     "image/png": "[encoded data removed]"
    }
   },
   "cell_type": "markdown",
   "metadata": {},
   "source": [
    "![image.png](attachment:image.png)"
   ]
  },
  {
   "cell_type": "code",
   "execution_count": 27,
   "metadata": {},
   "outputs": [
    {
     "name": "stdout",
     "output_type": "stream",
     "text": [
      "torch.Size([32, 65])\n",
      "tensor(4.7516, grad_fn=<NllLossBackward0>)\n",
      "\n",
      "Sr?qP-QWktXoL&jLDJgOLVz'RIoDqHdhsV&vLLxatjscMpwLERSPyao.qfzs$Ys$zF-w,;eEkzxjgCKFChs!iWW.ObzDnxA Ms$3\n"
     ]
    }
   ],
   "source": [
    "import torch\n",
    "import torch.nn as nn\n",
    "from torch.nn import functional as F\n",
    "torch.manual_seed(1337)\n",
    "\n",
    "class BigramLanguageModel(nn.Module):\n",
    "\n",
    "    def __init__(self, vocab_size):\n",
    "        super().__init__()\n",
    "        # each token directly reads off the logits for the next token from a lookup table\n",
    "        self.token_embedding_table = nn.Embedding(vocab_size, vocab_size)\n",
    "\n",
    "    def forward(self, idx, targets=None):\n",
    "\n",
    "        # idx and targets are both (B,T) tensor of integers\n",
    "        logits = self.token_embedding_table(idx) # (B,T,C)\n",
    "        \n",
    "        if targets is None:\n",
    "            loss = None\n",
    "        else:\n",
    "            B, T, C = logits.shape\n",
    "            logits = logits.view(B*T, C)\n",
    "            targets = targets.view(B*T)\n",
    "            loss = F.cross_entropy(logits, targets)\n",
    "\n",
    "        return logits, loss\n",
    "    \n",
    "    def generate(self, idx, max_new_tokens):\n",
    "        # idx is (B, T) array of indices in the current context\n",
    "        for _ in range(max_new_tokens):\n",
    "            # get the predictions\n",
    "            logits, loss = self(idx)\n",
    "            # focus only on the last time step\n",
    "            logits = logits[:, -1, :] # becomes (B, C)\n",
    "            # apply softmax to get probabilities\n",
    "            probs = F.softmax(logits, dim=-1) # (B, C)\n",
    "            # sample from the distribution\n",
    "            idx_next = torch.multinomial(probs, num_samples=1) # (B, 1)\n",
    "            # append sampled index to the running sequence\n",
    "            idx = torch.cat((idx, idx_next), dim=1) # (B, T+1)\n",
    "        return idx\n",
    "\n",
    "m = BigramLanguageModel(vocab_size)\n",
    "logits, loss = m(xb, yb)\n",
    "print(logits.shape)\n",
    "print(loss)\n",
    "\n",
    "print(decode(m.generate(idx = torch.zeros((1, 1), dtype=torch.long), max_new_tokens=100)[0].tolist()))\n"
   ]
  }
 ],
 "metadata": {
  "kernelspec": {
   "display_name": "ai",
   "language": "python",
   "name": "python3"
  },
  "language_info": {
   "codemirror_mode": {
    "name": "ipython",
    "version": 3
   },
   "file_extension": ".py",
   "mimetype": "text/x-python",
   "name": "python",
   "nbconvert_exporter": "python",
   "pygments_lexer": "ipython3",
   "version": "3.10.13"
  }
 },
 "nbformat": 4,
 "nbformat_minor": 2
}
