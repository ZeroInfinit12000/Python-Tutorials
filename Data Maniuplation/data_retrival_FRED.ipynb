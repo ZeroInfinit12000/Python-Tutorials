{
 "cells": [
  {
   "cell_type": "code",
   "execution_count": 1,
   "metadata": {},
   "outputs": [],
   "source": [
    "# Import packages\n",
    "import fredapi as fn\n",
    "import pandas as pd\n",
    "import seaborn as sns\n",
    "import matplotlib.pyplot as plt\n",
    "import numpy as np"
   ]
  },
  {
   "cell_type": "code",
   "execution_count": 2,
   "metadata": {},
   "outputs": [],
   "source": [
    "list_seasonally_ajusted_id = \"CPALTT01USM661S CPILFESL CPIENGSL Gross_Domestic_Product GDPC1 INDPRO GFDEGDQ188S UNRATE W202RC1Q027SBEA W068RCQ027SBEA M2SL M2REAL M2V LES1252881500Q\".split(\n",
    "    \" \")  # PSAVERT\n",
    "\n",
    "list_non_seasonally_ajusted_id = \"PPIACO NGDPPOT GDPPOT MTSDS133FMS NROU DFF T10YFF T10Y3M T10Y2Y T5YIE T10YIE EXPINF1YR EXPINF2YR EXPINF5YR EXPINF10YR HQMCB1YR HQMCB2YR HQMCB3YR HQMCB10YR HQMCB30YR GS1 GS2 GS3 GS5 GS10 GS30 EXUSEU EXJPUS EXCHUS RBUSBIS DCOILBRENTEU OILPRICE PNGASUSUSDM\".split(\n",
    "    \" \")"
   ]
  },
  {
   "cell_type": "code",
   "execution_count": 3,
   "metadata": {},
   "outputs": [],
   "source": [
    "# API Key\n",
    "API_KEY = \"c33d17d6ad546cfc58302d8906a42ece\"\n",
    "\n",
    "# Load Fred\n",
    "fred = fn.Fred(API_KEY)\n",
    "\n",
    "# Search FRED system for info by tag and load them as such\n",
    "data_list_seasonallity = {i: fred.search(\n",
    "    i).title.iloc[0] for i in list_seasonally_ajusted_id}\n",
    "data_list_no_seasonallity = {i: fred.search(\n",
    "    i).title.iloc[0] for i in list_non_seasonally_ajusted_id}"
   ]
  },
  {
   "cell_type": "code",
   "execution_count": 4,
   "metadata": {},
   "outputs": [],
   "source": [
    "value = data_list_seasonallity[\"Gross_Domestic_Product\"]\n",
    "data_list_seasonallity[\"GDP\"] = value\n",
    "del data_list_seasonallity[\"Gross_Domestic_Product\"]"
   ]
  },
  {
   "cell_type": "code",
   "execution_count": 8,
   "metadata": {},
   "outputs": [],
   "source": [
    "ajusted_titles_seasonallity = [\"CPI_ALL_ITEMS\",\n",
    "                               \"CPI_LESS_FOOD_AND_ENERGY\",\n",
    "                               \"CPI_ENERGY\",\n",
    "                               \"GDP_REAL\",\n",
    "                               \"IP_INDEX\",\n",
    "                               \"DEBT_OVER_GDP\",\n",
    "                               \"UNEMPLOYMENT_RATE\",\n",
    "                               # \"S_PRIVATE\",\n",
    "                               \"PERSONAL_SAVING_RATE\",\n",
    "                               \"G\",\n",
    "                               \"M2\",\n",
    "                               \"M2_REAL\",\n",
    "                               \"M2_VELOCITY\",\n",
    "                               \"FULL_TIME_NOMINAL_WEEKLY_WAGE\",\n",
    "                               \"GDP\",]\n",
    "\n",
    "ajusted_titles_seasonallity = dict(\n",
    "    zip(list(data_list_seasonallity.keys()), ajusted_titles_seasonallity))\n",
    "data_list_seasonallity_ajusted_title = {\n",
    "    data_list_seasonallity[i]: j for i, j in ajusted_titles_seasonallity.items()}\n",
    "\n",
    "data_list_no_seasonallity_ajusted_title = data_list_no_seasonallity\n",
    "\n",
    "ajusted_titles_no_seasonallity = [\"PPI_ALL_COMMODITIES\",\n",
    "                                  \"POTENTIAL_GDP\",\n",
    "                                  \"POTENTIAL_REAL_GDP\",\n",
    "                                  \"FEDERAL_DEFICIT\",\n",
    "                                  \"NON_CYCLICAL_UNEMPLOYMENT_RATE\",\n",
    "                                  \"FED_FUNDS_RATE\",\n",
    "                                  \"SPREAD_10Y_TREASURY_CONSTANT_MATURITY_VS_FED_FUNDS_RATE\",\n",
    "                                  \"SPREAD_10Y_TREASURY_CONSTANT_MATURITY_VS_3_MONTHS_TREASURY_CONSTANT_MATURITY\",\n",
    "                                  \"SPREAD_10Y_TREASURY_CONSTANT_MATURITY_VS_2_YEARS_TREASURY_CONSTANT_MATURITY\",\n",
    "                                  \"5Y_BREAKEVEN_INFLATION\",\n",
    "                                  \"10Y_BREAKEVEN_INFLATION\",\n",
    "                                  \"INFLATION_EXPECTATION_1Y\",\n",
    "                                  \"INFLATION_EXPECTATION_2Y\",\n",
    "                                  \"INFLATION_EXPECTATION_5Y\",\n",
    "                                  \"INFLATION_EXPECTATION_10Y\",\n",
    "                                  \"HQMC_BONDS_SPOT_1Y\",\n",
    "                                  \"HQMC_BONDS_SPOT_2Y\",\n",
    "                                  \"HQMC_BONDS_SPOT_3Y\",\n",
    "                                  \"HQMC_BONDS_SPOT_10Y\",\n",
    "                                  \"HQMC_BONDS_SPOT_30Y\",\n",
    "                                  \"US_TREASURY_BONDS_1Y_CONSTANT_MATURITY\",\n",
    "                                  \"US_TREASURY_BONDS_2Y_CONSTANT_MATURITY\",\n",
    "                                  \"US_TREASURY_BONDS_3Y_CONSTANT_MATURITY\",\n",
    "                                  \"US_TREASURY_BONDS_5Y_CONSTANT_MATURITY\",\n",
    "                                  \"US_TREASURY_BONDS_10Y_CONSTANT_MATURITY\",\n",
    "                                  \"US_TREASURY_BONDS_30Y_CONSTANT_MATURITY\",\n",
    "                                  \"EXCHANGE_RATE_US_EUR\",\n",
    "                                  \"EXCHANGE_RATE_JPN_US\",\n",
    "                                  \"EXCHANGE_RATE_CHN_US\",\n",
    "                                  \"REAL_BROAD_EFFECTIVE_US_EXCHANGE_RATE\",\n",
    "                                  \"BRENT_OIL_PRICE_EUROPE\",\n",
    "                                  \"WTI_OIL_PRICE\",\n",
    "                                  \"HENRY_HUB_GAS_PRICE\",\n",
    "                                  ]\n",
    "\n",
    "\n",
    "ajusted_titles_no_seasonallity = dict(\n",
    "    zip(list_non_seasonally_ajusted_id, ajusted_titles_no_seasonallity))\n",
    "data_list_no_seasonallity_ajusted_title = {\n",
    "    data_list_no_seasonallity[i]: j for i, j in ajusted_titles_no_seasonallity.items()}"
   ]
  },
  {
   "cell_type": "code",
   "execution_count": 6,
   "metadata": {},
   "outputs": [],
   "source": [
    "data_seasonality = {}\n",
    "for tag, name in data_list_seasonallity.items():\n",
    "    data_item = fred.get_series(\n",
    "        tag, frequency=\"q\",\n",
    "        aggregation_method=\"avg\",\n",
    "    )\n",
    "    data_seasonality[name + f\"[FRED: {tag}]\"] = data_item\n",
    "data_seasonality = pd.DataFrame(data_seasonality)\n",
    "data_seasonality_short_title = data_seasonality.copy()\n",
    "data_seasonality_short_title.columns = list(\n",
    "    data_list_seasonallity_ajusted_title.values())"
   ]
  },
  {
   "cell_type": "code",
   "execution_count": 7,
   "metadata": {},
   "outputs": [],
   "source": [
    "data_no_seasonality = {}\n",
    "for tag, name in data_list_no_seasonallity.items():\n",
    "    data_item = fred.get_series(\n",
    "        tag, frequency=\"q\",\n",
    "        aggregation_method=\"avg\",\n",
    "    )\n",
    "    data_no_seasonality[name + f\"[FRED: {tag}]\"] = data_item\n",
    "data_no_seasonality = pd.DataFrame(data_no_seasonality)\n",
    "data_no_seasonality_short_title = data_no_seasonality.copy()\n",
    "data_no_seasonality_short_title.columns = list(\n",
    "    data_list_no_seasonallity_ajusted_title.values())"
   ]
  },
  {
   "cell_type": "code",
   "execution_count": 9,
   "metadata": {},
   "outputs": [],
   "source": [
    "# data_seasonality\n",
    "# data_seasonality_short_title\n",
    "# data_no_seasonality\n",
    "# data_no_seasonality_short_title\n",
    "\n",
    "with pd.ExcelWriter('Fred_Data_Proyect.xlsx', engine='xlsxwriter') as writer:\n",
    "    # Write each DataFrame to a separate worksheet\n",
    "    data_seasonality.to_excel(\n",
    "        writer, sheet_name='Data SA', index=True)\n",
    "    data_seasonality_short_title.to_excel(\n",
    "        writer, sheet_name='Data SA Short Title', index=True)\n",
    "    data_no_seasonality.to_excel(\n",
    "        writer, sheet_name='Data NSA Ajusted', index=True)\n",
    "    data_no_seasonality_short_title.to_excel(\n",
    "        writer, sheet_name='Data NSA Short Title', index=True)"
   ]
  }
 ],
 "metadata": {
  "kernelspec": {
   "display_name": "ai",
   "language": "python",
   "name": "python3"
  },
  "language_info": {
   "codemirror_mode": {
    "name": "ipython",
    "version": 3
   },
   "file_extension": ".py",
   "mimetype": "text/x-python",
   "name": "python",
   "nbconvert_exporter": "python",
   "pygments_lexer": "ipython3",
   "version": "3.9.18"
  }
 },
 "nbformat": 4,
 "nbformat_minor": 2
}
