{
 "cells": [
  {
   "cell_type": "markdown",
   "metadata": {},
   "source": [
    "# KeyWords VS Code\n",
    "\n",
    "f1 open options\n",
    "\n",
    "ctrl+x, delete 1 line\n",
    "\n",
    "cntrl+w, close 1 file\n",
    "\n",
    "shift + up or down, select lines\n",
    "\n",
    "alt+up or down, move line up or down\n",
    "\n",
    "alt + 1 or 2 or 3 or 4, select 1 or 2 or 3 or 4 files...1\n",
    "\n",
    "cntrl+p, move between files\n",
    "\n",
    "cntrl+alt+up or down, make multiple cursor. There you can easily do # or take it\n",
    "\n",
    "shift+tab, move between rows\n",
    "\n",
    "shift+alt up or down, copy the line you are in up or downwards\n",
    "\n",
    "shid+e, run terminal\n",
    "\n",
    "shift+d,run selected things to interace terminal\n",
    "\n",
    "\n",
    "ctrl+enter, run jupyter cell\n",
    "\n",
    "shift+space, run file interactice windows\n",
    "\n",
    "shift+r, run selected code interactive window\n",
    "\n",
    "shift+t, run all the code before current line interactive windows\n",
    "\n",
    "\n"
   ]
  }
 ],
 "metadata": {
  "kernelspec": {
   "display_name": "Python 3 (ipykernel)",
   "language": "python",
   "name": "python3"
  },
  "language_info": {
   "codemirror_mode": {
    "name": "ipython",
    "version": 3
   },
   "file_extension": ".py",
   "mimetype": "text/x-python",
   "name": "python",
   "nbconvert_exporter": "python",
   "pygments_lexer": "ipython3",
   "version": "3.11.6"
  }
 },
 "nbformat": 4,
 "nbformat_minor": 5
}
