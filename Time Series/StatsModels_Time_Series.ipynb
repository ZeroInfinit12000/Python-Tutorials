{
 "cells": [
  {
   "cell_type": "markdown",
   "metadata": {},
   "source": [
    "Main modules: statsmodels.sta\n",
    "\n",
    "-statsmodels.tsa.stattols\n",
    "-statsmodels.tsa.arima.model \n",
    "-from linearmodels.iv import IV2SLS (BEST OLS in my optionion)\n",
    "-statsmodels.tsa.statespace\n",
    "-statsmodels.tsa.var\n",
    "-statsmodels.tsa.filters\n"
   ]
  },
  {
   "cell_type": "code",
   "execution_count": null,
   "metadata": {},
   "outputs": [],
   "source": []
  }
 ],
 "metadata": {
  "language_info": {
   "name": "python"
  }
 },
 "nbformat": 4,
 "nbformat_minor": 2
}
