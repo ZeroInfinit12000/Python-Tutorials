{
 "cells": [
  {
   "cell_type": "markdown",
   "metadata": {},
   "source": [
    "* Iterators and Generators are more or elss same stuff, but iteraators are just more hard to build...\n",
    "* In python, __LOOPS WORK ONLY IF YOU GOT AN ITERATOR__\n",
    "* All iterator must have the \\__iter__() and \\__next__() methods or next() iter(),...(such that next(iter(x)) gives you the next value of the sequence!)\n",
    "* Generators are easier to build, but are more or less the same stuff\n"
   ]
  },
  {
   "cell_type": "code",
   "execution_count": 93,
   "metadata": {},
   "outputs": [
    {
     "name": "stdout",
     "output_type": "stream",
     "text": [
      "The for loop creates and stores some sort of iterator Object associated to the list A: <list_iterator object at 0x0000021A6DC21FA0>\n",
      "Then it calls __next__() or next() on such an iterator object:\n",
      "1\n",
      "2\n",
      "3\n",
      "4\n",
      "5\n",
      "6\n",
      "6\n",
      "7\n",
      "8\n",
      "Here the loop will just stop insted of output the error, wwhile I print this message\n"
     ]
    }
   ],
   "source": [
    "# What a for loop does when you loop through a list\n",
    "\n",
    "# Say you got the list\n",
    "\n",
    "A = [1,2,3,4,5,6,6,7,8]\n",
    "\n",
    "# If you do iter() on that list, you create now an iterator of that list. Now, if you call next() on that iterator it will output the next value\n",
    "# and then the next if you call next() (or __next__()), and so forth. Well, a loop basically apply iter(A), stores the iter(A) in memory, into an object, call it A_iterator, then applies next() repetedly on the A_iterator object to get the next value, then the next value and so forth!\n",
    "\n",
    "# Also, the for loop has some sort of error handeling capability, such that when there is no more value to output when you put next(), then the loop just stops insted of output the error!\n",
    "\n",
    "\n",
    "# This is a for loop over that particular list A!!!. This is what a for loop really is!\n",
    "try:\n",
    "    A_iterator = iter(A)\n",
    "    print(\"The for loop creates and stores some sort of iterator Object associated to the list A:\",A_iterator)\n",
    "    \n",
    "    print(\"Then it calls __next__() or next() on such an iterator object:\")\n",
    "    print(next(A_iterator))\n",
    "    print(A_iterator.__next__())\n",
    "    print(next(A_iterator))\n",
    "    print(A_iterator.__next__())\n",
    "    print(next(A_iterator))\n",
    "    print(A_iterator.__next__())\n",
    "    print(next(A_iterator))\n",
    "    print(A_iterator.__next__())\n",
    "    print(next(A_iterator))\n",
    "    print(A_iterator.__next__())\n",
    "except StopIteration:\n",
    "    print(\"Here the loop will just stop insted of output the error, wwhile I print this message\")"
   ]
  },
  {
   "cell_type": "markdown",
   "metadata": {},
   "source": [
    "* Some functions of python list sum() when applied to an iterator are way more efficient, since you do not need to store all the values when doing the computation (see the last example below to get what I am saying!!!)"
   ]
  },
  {
   "cell_type": "code",
   "execution_count": 3,
   "metadata": {},
   "outputs": [
    {
     "name": "stdout",
     "output_type": "stream",
     "text": [
      "1\n",
      "2\n",
      "3\n",
      "4\n",
      "5\n",
      "6\n",
      "7\n",
      "8\n",
      "9\n",
      "10\n",
      "1\n",
      "2\n",
      "3\n",
      "4\n",
      "5\n",
      "6\n",
      "7\n",
      "8\n",
      "9\n",
      "10\n"
     ]
    }
   ],
   "source": [
    "# Here I have to store every number in a data structure\n",
    "x = [1,2,3,4,5,6,7,8,9,10]\n",
    "\n",
    "for element in x:\n",
    "    print(element)\n",
    "    \n",
    "# Here I store way lesss stuff. This is because range() returns just an ITERATOR\n",
    "for element in range(1,11):\n",
    "    print(element)"
   ]
  },
  {
   "cell_type": "markdown",
   "metadata": {},
   "source": [
    "Build Iterator with map"
   ]
  },
  {
   "cell_type": "code",
   "execution_count": 14,
   "metadata": {},
   "outputs": [
    {
     "name": "stdout",
     "output_type": "stream",
     "text": [
      "<map object at 0x0000021A6C831FA0>\n",
      "1\n",
      "2\n",
      "3\n",
      "4\n",
      "5\n",
      "6\n",
      "7\n",
      "8\n",
      "9\n",
      "10\n"
     ]
    }
   ],
   "source": [
    "# ITERATOR: Something that allows us to loop a sequence without having to store all the sequence in memory:\n",
    "import sys\n",
    "x = [1,2,3,4,5,6,7,8,9,10]\n",
    "\n",
    "# Now, here map is a generator/iterator. It allows as to loop through all values of x without actually storing them. It does not create the list if we do not ask it to.\n",
    "y = map(lambda i: i,x) # This, in esesence, returns an iterator.... Like, say you want to use that as an iterator... Then you just do it!\n",
    "print(y) # This is an iterator\n",
    "\n",
    "for i in y:\n",
    "    print(i) # This take the first element of x, put in into the lambda function, and print the result, and so forth...\n"
   ]
  },
  {
   "cell_type": "code",
   "execution_count": 24,
   "metadata": {},
   "outputs": [
    {
     "name": "stdout",
     "output_type": "stream",
     "text": [
      "1\n",
      "4\n",
      "9\n",
      "For Loop\n",
      "16\n",
      "25\n",
      "36\n",
      "49\n",
      "64\n",
      "81\n",
      "100\n"
     ]
    }
   ],
   "source": [
    "# ITERATOR: Something that allows us to loop a sequence without having to store all the sequence in memory:\n",
    "import sys\n",
    "x = [1,2,3,4,5,6,7,8,9,10]\n",
    "\n",
    "# Now, here map is a generator/iterator. It allows as to loop through all values of x without actually storing them. It does not create the list if we do not ask it to.\n",
    "y = map(lambda i: i**2,x) # This, in esesence, returns an iterator.... Like, say you want to use that as an iterator... Then you just do it!\n",
    "print(next(y)) # This next is the function that is being executed in the iterator...\n",
    "print(next(y))\n",
    "print(next(y))\n",
    "print(\"For Loop Start:\")\n",
    "for i in y: # Basically, the for loop is calling the .__next___() method on the iterator!\n",
    "    print(i)"
   ]
  },
  {
   "cell_type": "code",
   "execution_count": 32,
   "metadata": {},
   "outputs": [
    {
     "name": "stdout",
     "output_type": "stream",
     "text": [
      "range(1, 11)\n",
      "1\n",
      "1\n",
      "2\n",
      "3\n",
      "4\n",
      "5\n",
      "6\n",
      "7\n",
      "8\n",
      "9\n",
      "10\n"
     ]
    }
   ],
   "source": [
    "x = range(1,11)\n",
    "print(x)\n",
    "# iter() .__iter__()\n",
    "print(next(iter(x))) \n",
    "# Basically, when we do the loop and say for i in x, what is actually done is for i in iter(x)!!!\n",
    "for i in iter(x): # this is the same as for i in x!!!\n",
    "    print(i)\n",
    "# Now, it calls the next() method on the iterator object created!"
   ]
  },
  {
   "cell_type": "markdown",
   "metadata": {},
   "source": [
    "Create a new iterator (old syntax)\n"
   ]
  },
  {
   "cell_type": "code",
   "execution_count": 37,
   "metadata": {},
   "outputs": [
    {
     "name": "stdout",
     "output_type": "stream",
     "text": [
      "0\n",
      "1\n",
      "2\n",
      "3\n",
      "4\n"
     ]
    }
   ],
   "source": [
    "\n",
    "# To make any object of this class an iterator you must implement the __iter__() and __next__() methods into it!!\n",
    "class Iter:\n",
    "    def __init__(self,n):\n",
    "        self.n = n\n",
    "    def  __iter__(self): # This initialize the current value of my iteration, and return the self!. I guess this is sort of like the clock\n",
    "        self.current = -1\n",
    "        return self # This returns the object itself?\n",
    "    def __next__(self):\n",
    "        self.current += 1  # n is sort of like  the limit of the clock, or the length of the iterator\n",
    "        if self.current>=self.n:\n",
    "            raise StopIteration\n",
    "        return self.current\n",
    "    \n",
    "x = Iter(5) # This is 100% the equivalent of range(1,5)!\n",
    "\n",
    "# And now, you can loop through the iterator.\n",
    "        \n",
    "for i in x:\n",
    "    print(i)\n"
   ]
  },
  {
   "cell_type": "markdown",
   "metadata": {},
   "source": [
    "* Create a iterator (Generator) (New syntax with yield)\n",
    "* yield baically make the program stop till it recives a new next() call (the iter method is kind of already applied always before that). So you can loop through that stuff"
   ]
  },
  {
   "cell_type": "code",
   "execution_count": 48,
   "metadata": {},
   "outputs": [
    {
     "name": "stdout",
     "output_type": "stream",
     "text": [
      "0\n",
      "1\n",
      "2\n",
      "3\n",
      "4\n"
     ]
    }
   ],
   "source": [
    "import sys\n",
    "# This below is 1000% the same as the class notation of above, but way faster!!!\n",
    "# Basically, \n",
    "def gen(n):\n",
    "    for i in range(n):\n",
    "        yield i  # When it reaches here the function STOPS till the function associated to the iterator recives a new call with next!!\n",
    "iterator = gen(5)\n",
    "for i in iterator:\n",
    "    print(i)"
   ]
  },
  {
   "cell_type": "markdown",
   "metadata": {},
   "source": [
    "* Generator comprehension: This is another easy way to do iterators/generators.\n",
    "* Basically, the same stuff as all the comprehensions, but for iterators/generators, you just need to put () insted of [] or {}! "
   ]
  },
  {
   "cell_type": "code",
   "execution_count": 127,
   "metadata": {},
   "outputs": [
    {
     "name": "stdout",
     "output_type": "stream",
     "text": [
      "<generator object <genexpr> at 0x0000021A6AE59820>\n",
      "0\n",
      "1\n",
      "<generator object <genexpr> at 0x0000021A6AE59BA0>\n",
      "Sum the iterator/generator created!, This does not store all the intermediated values into memory!\n",
      "4950\n",
      "4950.0\n",
      "161708332500\n"
     ]
    }
   ],
   "source": [
    "# This is the same as the two examples above\n",
    "x = (i for i in range(10))\n",
    "print(x)\n",
    "print(next(x))\n",
    "print(next(x))\n",
    "\n",
    "\n",
    "# Or say,\n",
    "\n",
    "x = (i for i in range(100))\n",
    "print(x)\n",
    "\n",
    "print(\"Sum the iterator/generator created!, This does not store all the intermediated values into memory!\")\n",
    "print(sum(x))\n",
    "print(99*(99+1)/2)\n",
    "\n",
    "# Just image the computation above but in this case, without storing all the i**5 elements into memory!\n",
    "x = (i**5 for i in range(100))\n",
    "print(sum(x))"
   ]
  },
  {
   "cell_type": "markdown",
   "metadata": {},
   "source": [
    "* Usage--> You only care about the output, not all the data used to use that\n",
    "\n",
    "* Example: You only care about to find if an object is in a txt file. You take a line, search for the object, if it is not there, you delete that row from the memory and proceed to the next line, and so forth..."
   ]
  }
 ],
 "metadata": {
  "kernelspec": {
   "display_name": "eco",
   "language": "python",
   "name": "python3"
  },
  "language_info": {
   "codemirror_mode": {
    "name": "ipython",
    "version": 3
   },
   "file_extension": ".py",
   "mimetype": "text/x-python",
   "name": "python",
   "nbconvert_exporter": "python",
   "pygments_lexer": "ipython3",
   "version": "3.9.19"
  }
 },
 "nbformat": 4,
 "nbformat_minor": 2
}
