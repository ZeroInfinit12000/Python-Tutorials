{
 "cells": [
  {
   "cell_type": "code",
   "execution_count": 1,
   "metadata": {},
   "outputs": [
    {
     "data": {
      "application/json": {
       "cell": {
        "!": "OSMagics",
        "HTML": "Other",
        "SVG": "Other",
        "bash": "Other",
        "capture": "ExecutionMagics",
        "cmd": "Other",
        "code_wrap": "ExecutionMagics",
        "debug": "ExecutionMagics",
        "file": "Other",
        "html": "DisplayMagics",
        "javascript": "DisplayMagics",
        "js": "DisplayMagics",
        "latex": "DisplayMagics",
        "markdown": "DisplayMagics",
        "perl": "Other",
        "prun": "ExecutionMagics",
        "pypy": "Other",
        "python": "Other",
        "python2": "Other",
        "python3": "Other",
        "ruby": "Other",
        "script": "ScriptMagics",
        "sh": "Other",
        "svg": "DisplayMagics",
        "sx": "OSMagics",
        "system": "OSMagics",
        "time": "ExecutionMagics",
        "timeit": "ExecutionMagics",
        "writefile": "OSMagics"
       },
       "line": {
        "alias": "OSMagics",
        "alias_magic": "BasicMagics",
        "autoawait": "AsyncMagics",
        "autocall": "AutoMagics",
        "automagic": "AutoMagics",
        "autosave": "KernelMagics",
        "bookmark": "OSMagics",
        "cd": "OSMagics",
        "clear": "KernelMagics",
        "cls": "KernelMagics",
        "code_wrap": "ExecutionMagics",
        "colors": "BasicMagics",
        "conda": "PackagingMagics",
        "config": "ConfigMagics",
        "connect_info": "KernelMagics",
        "copy": "Other",
        "ddir": "Other",
        "debug": "ExecutionMagics",
        "dhist": "OSMagics",
        "dirs": "OSMagics",
        "doctest_mode": "BasicMagics",
        "echo": "Other",
        "ed": "Other",
        "edit": "KernelMagics",
        "env": "OSMagics",
        "gui": "BasicMagics",
        "hist": "Other",
        "history": "HistoryMagics",
        "killbgscripts": "ScriptMagics",
        "ldir": "Other",
        "less": "KernelMagics",
        "load": "CodeMagics",
        "load_ext": "ExtensionMagics",
        "loadpy": "CodeMagics",
        "logoff": "LoggingMagics",
        "logon": "LoggingMagics",
        "logstart": "LoggingMagics",
        "logstate": "LoggingMagics",
        "logstop": "LoggingMagics",
        "ls": "Other",
        "lsmagic": "BasicMagics",
        "macro": "ExecutionMagics",
        "magic": "BasicMagics",
        "mamba": "PackagingMagics",
        "matplotlib": "PylabMagics",
        "micromamba": "PackagingMagics",
        "mkdir": "Other",
        "more": "KernelMagics",
        "notebook": "BasicMagics",
        "page": "BasicMagics",
        "pastebin": "CodeMagics",
        "pdb": "ExecutionMagics",
        "pdef": "NamespaceMagics",
        "pdoc": "NamespaceMagics",
        "pfile": "NamespaceMagics",
        "pinfo": "NamespaceMagics",
        "pinfo2": "NamespaceMagics",
        "pip": "PackagingMagics",
        "popd": "OSMagics",
        "pprint": "BasicMagics",
        "precision": "BasicMagics",
        "prun": "ExecutionMagics",
        "psearch": "NamespaceMagics",
        "psource": "NamespaceMagics",
        "pushd": "OSMagics",
        "pwd": "OSMagics",
        "pycat": "OSMagics",
        "pylab": "PylabMagics",
        "qtconsole": "KernelMagics",
        "quickref": "BasicMagics",
        "recall": "HistoryMagics",
        "rehashx": "OSMagics",
        "reload_ext": "ExtensionMagics",
        "ren": "Other",
        "rep": "Other",
        "rerun": "HistoryMagics",
        "reset": "NamespaceMagics",
        "reset_selective": "NamespaceMagics",
        "rmdir": "Other",
        "run": "ExecutionMagics",
        "save": "CodeMagics",
        "sc": "OSMagics",
        "set_env": "OSMagics",
        "store": "StoreMagics",
        "sx": "OSMagics",
        "system": "OSMagics",
        "tb": "ExecutionMagics",
        "time": "ExecutionMagics",
        "timeit": "ExecutionMagics",
        "unalias": "OSMagics",
        "unload_ext": "ExtensionMagics",
        "who": "NamespaceMagics",
        "who_ls": "NamespaceMagics",
        "whos": "NamespaceMagics",
        "xdel": "NamespaceMagics",
        "xmode": "BasicMagics"
       }
      },
      "text/plain": [
       "Available line magics:\n",
       "%alias  %alias_magic  %autoawait  %autocall  %automagic  %autosave  %bookmark  %cd  %clear  %cls  %code_wrap  %colors  %conda  %config  %connect_info  %copy  %ddir  %debug  %dhist  %dirs  %doctest_mode  %echo  %ed  %edit  %env  %gui  %hist  %history  %killbgscripts  %ldir  %less  %load  %load_ext  %loadpy  %logoff  %logon  %logstart  %logstate  %logstop  %ls  %lsmagic  %macro  %magic  %mamba  %matplotlib  %micromamba  %mkdir  %more  %notebook  %page  %pastebin  %pdb  %pdef  %pdoc  %pfile  %pinfo  %pinfo2  %pip  %popd  %pprint  %precision  %prun  %psearch  %psource  %pushd  %pwd  %pycat  %pylab  %qtconsole  %quickref  %recall  %rehashx  %reload_ext  %ren  %rep  %rerun  %reset  %reset_selective  %rmdir  %run  %save  %sc  %set_env  %store  %sx  %system  %tb  %time  %timeit  %unalias  %unload_ext  %who  %who_ls  %whos  %xdel  %xmode\n",
       "\n",
       "Available cell magics:\n",
       "%%!  %%HTML  %%SVG  %%bash  %%capture  %%cmd  %%code_wrap  %%debug  %%file  %%html  %%javascript  %%js  %%latex  %%markdown  %%perl  %%prun  %%pypy  %%python  %%python2  %%python3  %%ruby  %%script  %%sh  %%svg  %%sx  %%system  %%time  %%timeit  %%writefile\n",
       "\n",
       "Automagic is ON, % prefix IS NOT needed for line magics."
      ]
     },
     "execution_count": 1,
     "metadata": {},
     "output_type": "execute_result"
    }
   ],
   "source": [
    "# List all\n",
    "%lsmagic"
   ]
  },
  {
   "cell_type": "code",
   "execution_count": null,
   "metadata": {},
   "outputs": [],
   "source": [
    "# Run a file fromw withing\n",
    "#%run <file_name_path.py>"
   ]
  },
  {
   "cell_type": "code",
   "execution_count": 3,
   "metadata": {},
   "outputs": [
    {
     "name": "stdout",
     "output_type": "stream",
     "text": [
      "CPU times: total: 31.2 ms\n",
      "Wall time: 37 ms\n"
     ]
    },
    {
     "data": {
      "text/plain": [
       "4950"
      ]
     },
     "execution_count": 3,
     "metadata": {},
     "output_type": "execute_result"
    }
   ],
   "source": [
    "# Get execution time (that function) or get a confidence inteval (timeit-->basically repeats itself). With one % only  executes on that code\n",
    "%time sum(range(1000000))\n",
    "\n",
    "%timeit \n",
    "sum(range(100))\n"
   ]
  },
  {
   "cell_type": "code",
   "execution_count": 4,
   "metadata": {},
   "outputs": [
    {
     "name": "stdout",
     "output_type": "stream",
     "text": [
      "35.6 ms ± 720 µs per loop (mean ± std. dev. of 7 runs, 10 loops each)\n"
     ]
    }
   ],
   "source": [
    "%%timeit\n",
    "# %%time or %%timeit at the begining of a cell measures the time of all the code in the cell execution\n",
    "sum(range(1000000))"
   ]
  },
  {
   "cell_type": "code",
   "execution_count": 1,
   "metadata": {},
   "outputs": [
    {
     "name": "stdout",
     "output_type": "stream",
     "text": [
      "int_variable\t list_variable\t string_variable\t \n",
      "int_variable\t \n",
      "string_variable\t \n",
      "list_variable\t \n",
      "Variable          Type    Data/Info\n",
      "-----------------------------------\n",
      "DASDASDA          str     sDAD\n",
      "int_variable      int     1\n",
      "list_variable     list    n=2\n",
      "string_variable   str     Buda\n"
     ]
    },
    {
     "name": "stdout",
     "output_type": "stream",
     "text": [
      "\u001b[1;31mType:\u001b[0m        str\n",
      "\u001b[1;31mString form:\u001b[0m Buda\n",
      "\u001b[1;31mLength:\u001b[0m      4\n",
      "\u001b[1;31mDocstring:\u001b[0m  \n",
      "str(object='') -> str\n",
      "str(bytes_or_buffer[, encoding[, errors]]) -> str\n",
      "\n",
      "Create a new string object from the given object. If encoding or\n",
      "errors is specified, then the object must expose a data buffer\n",
      "that will be decoded using the given encoding and error handler.\n",
      "Otherwise, returns the result of object.__str__() (if defined)\n",
      "or repr(object).\n",
      "encoding defaults to sys.getdefaultencoding().\n",
      "errors defaults to 'strict'."
     ]
    }
   ],
   "source": [
    "# List all variables in the notebook\n",
    "int_variable=1\n",
    "string_variable = \"Buda\"\n",
    "list_variable =[\"1212\",2121]\n",
    "%who\n",
    "%who int \n",
    "%who str\n",
    "%who list\n",
    "DASDASDA=\"sDAD\"\n",
    "# with %pinfo <variable name> you can see the content of that particular variable\n",
    "%pinfo string_variable\n",
    "\n",
    "# The best of them all is %whos\n",
    "%whos"
   ]
  },
  {
   "cell_type": "code",
   "execution_count": 10,
   "metadata": {},
   "outputs": [
    {
     "name": "stdout",
     "output_type": "stream",
     "text": [
      "Directory history (kept in _dh)\n",
      "0: c:\\Users\\zeroi\\Desktop\\Programing\\Python Tutorials\\Python-Tutorials\\Python Tutorial\n",
      "1: c:\\Users\\zeroi\\Desktop\\Programing\\Python Tutorials\\Python-Tutorials\\Python Tutorial\n"
     ]
    }
   ],
   "source": [
    "# Change current directory\n",
    "%cd cpath_to_new_directory"
   ]
  },
  {
   "cell_type": "code",
   "execution_count": null,
   "metadata": {},
   "outputs": [],
   "source": [
    "# %automagic--> Make magic callable without typing % at the begiining"
   ]
  },
  {
   "cell_type": "code",
   "execution_count": 3,
   "metadata": {},
   "outputs": [
    {
     "data": {
      "application/vnd.jupyter.widget-view+json": {
       "model_id": "099056a321e44035a7b026ba945f9753",
       "version_major": 2,
       "version_minor": 0
      },
      "image/png": "[encoded data removed]",
      "text/html": [
       "\n",
       "            <div style=\"display: inline-block;\">\n",
       "                <div class=\"jupyter-widgets widget-label\" style=\"text-align: center;\">\n",
       "                    Figure 1\n",
       "                </div>\n",
       "                <img src='data:image/png;base64,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' width=640.0/>\n",
       "            </div>\n",
       "        "
      ],
      "text/plain": [
       "Canvas(toolbar=Toolbar(toolitems=[('Home', 'Reset original view', 'home', 'home'), ('Back', 'Back to previous …"
      ]
     },
     "metadata": {},
     "output_type": "display_data"
    },
    {
     "data": {
      "image/png": "[encoded data removed]",
      "text/plain": [
       "<Figure size 800x600 with 1 Axes>"
      ]
     },
     "metadata": {},
     "output_type": "display_data"
    }
   ],
   "source": [
    "#dynamic matplotlib or inline\n",
    "import matplotlib.pyplot as plt\n",
    "%matplotlib widget\n",
    "plt.plot([1,2,3,4],[1,2,3,4])\n",
    "plt.show()\n",
    "%matplotlib inline\n",
    "plt.plot([1,2,3,4],[1,2,3,4])\n",
    "plt.show()"
   ]
  },
  {
   "cell_type": "code",
   "execution_count": null,
   "metadata": {},
   "outputs": [],
   "source": [
    "#%load rectangle.py--> This is kind of lie from rectangle import *, just imports all the functions/variables defined in that document in this cell"
   ]
  },
  {
   "cell_type": "code",
   "execution_count": 18,
   "metadata": {},
   "outputs": [
    {
     "data": {
      "text/markdown": [
       "\n",
       "\n",
       "for i in range(10):\n",
       "    print($X_0$)\n"
      ],
      "text/plain": [
       "<IPython.core.display.Markdown object>"
      ]
     },
     "metadata": {},
     "output_type": "display_data"
    }
   ],
   "source": [
    "%%markdown #Just make the cell as a markdown cell, not quite usefull i guess\n",
    "\n",
    "\n",
    "for i in range(10):\n",
    "    print($X_0$)"
   ]
  },
  {
   "cell_type": "code",
   "execution_count": 30,
   "metadata": {},
   "outputs": [
    {
     "data": {
      "text/latex": [
       "$x_0$\n"
      ],
      "text/plain": [
       "<IPython.core.display.Latex object>"
      ]
     },
     "metadata": {},
     "output_type": "display_data"
    }
   ],
   "source": [
    "%%latex # Render output as latex?\n",
    "$x_0$"
   ]
  },
  {
   "cell_type": "code",
   "execution_count": 42,
   "metadata": {},
   "outputs": [
    {
     "name": "stdout",
     "output_type": "stream",
     "text": [
      "Appending to filename.txt\n"
     ]
    }
   ],
   "source": [
    "%%writefile -a filename.txt \n",
    "# Note: Basically, the -a is to not delete the exiting file, and just append the contents\n"
   ]
  },
  {
   "cell_type": "code",
   "execution_count": 52,
   "metadata": {},
   "outputs": [
    {
     "name": "stdout",
     "output_type": "stream",
     "text": [
      "Microsoft Windows [Versi�n 10.0.22631.3374]\n",
      "(c) Microsoft Corporation. Todos los derechos reservados.\n",
      "\n",
      "c:\\Users\\zeroi\\Desktop\\Programing\\Python Tutorials\\Python-Tutorials\\Python Tutorial>\n",
      "c:\\Users\\zeroi\\Desktop\\Programing\\Python Tutorials\\Python-Tutorials\\Python Tutorial>"
     ]
    }
   ],
   "source": [
    "%%script cmd\n",
    "# Obsviously, creade cmd \n"
   ]
  }
 ],
 "metadata": {
  "kernelspec": {
   "display_name": "eco",
   "language": "python",
   "name": "python3"
  },
  "language_info": {
   "codemirror_mode": {
    "name": "ipython",
    "version": 3
   },
   "file_extension": ".py",
   "mimetype": "text/x-python",
   "name": "python",
   "nbconvert_exporter": "python",
   "pygments_lexer": "ipython3",
   "version": "3.9.19"
  }
 },
 "nbformat": 4,
 "nbformat_minor": 2
}
