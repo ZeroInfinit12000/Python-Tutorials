{
 "cells": [
  {
   "cell_type": "code",
   "execution_count": 5,
   "metadata": {},
   "outputs": [
    {
     "name": "stdout",
     "output_type": "stream",
     "text": [
      "[0, 2, 4, 6, 8, 10, 12, 14, 16, 18, 20, 22, 24, 26, 28, 30, 32, 34, 36, 38, 40, 42, 44, 46, 48]\n",
      "[0, 2, 4, 6, 8, 10, 12, 14, 16, 18, 20, 22, 24, 26, 28, 30, 32, 34, 36, 38, 40, 42, 44, 46, 48]\n"
     ]
    }
   ],
   "source": [
    "# Example 1:\n",
    "evens=[]\n",
    "for number in range(50):\n",
    "    is_even = number % 2 == 0\n",
    "    if is_even:\n",
    "        evens.append(number)\n",
    "print(evens)\n",
    "evens = [number for number in range(50) if number % 2 == 0 ]\n",
    "print(evens)"
   ]
  },
  {
   "cell_type": "code",
   "execution_count": 55,
   "metadata": {},
   "outputs": [
    {
     "name": "stdout",
     "output_type": "stream",
     "text": [
      "['any', 'aworldy', 'asadsasdasy']\n",
      "['any', 'aworldy', 'asadsasdasy']\n",
      "['any', 'a', 'a', 'aworldy', 'a', 'a', 'asadsasdasy']\n"
     ]
    }
   ],
   "source": [
    "# Strings that start with \"a\" and end with \"y\"\n",
    "options = [\"any\",\"adas\",\"apple\",\"aworldy\",\"hello\",\"\",\"asadsasdasy\"]\n",
    "\n",
    "valute_strings = []\n",
    "\n",
    "for string in options:\n",
    "    if len(string) <= 1:\n",
    "        continue\n",
    "    if string[0] !=\"a\":\n",
    "        continue\n",
    "    if string[-1] != \"y\":\n",
    "        continue\n",
    "    valute_strings.append(string)\n",
    "# you could have done the same with and and and...\n",
    "print(valute_strings)\n",
    "\n",
    "\n",
    "valute_strings = [string \n",
    "                  for string in options \n",
    "                  if len(string)>=2 \n",
    "                  if string[0]==\"a\"\n",
    "                  if string[-1]==\"y\"]\n",
    "print(valute_strings)\n",
    "\n",
    "\n",
    "valute_strings = [string\n",
    "                  for string in options\n",
    "                  if len(string) >=2 \n",
    "                  and string[0] == \"a\" \n",
    "                  and string[-1] == \"y\" \n",
    "                  ]\n",
    "print(valute_strings)"
   ]
  },
  {
   "cell_type": "code",
   "execution_count": 48,
   "metadata": {},
   "outputs": [
    {
     "name": "stdout",
     "output_type": "stream",
     "text": [
      "[1, 2, 3, 4, 5, 6, 7, 8, 9]\n",
      "[1, 2, 3, 4, 5, 6, 7, 8, 9]\n"
     ]
    }
   ],
   "source": [
    "# Flattening a list of lists\n",
    "\n",
    "matrix = [[1,2,3],[4,5,6],[7,8,9]]\n",
    "flattened = []\n",
    "\n",
    "for row in matrix:\n",
    "    for num in row:\n",
    "        flattened.append(num)\n",
    "print(flattened) \n",
    "\n",
    "\n",
    "flattened = [num \n",
    "             for row in matrix\n",
    "             for num in row]\n",
    "print(flattened)"
   ]
  },
  {
   "cell_type": "code",
   "execution_count": 56,
   "metadata": {},
   "outputs": [
    {
     "name": "stdout",
     "output_type": "stream",
     "text": [
      "['Even', 'Odd', 'Even', 'Odd', 'Even', 'Odd', 'Even', 'Odd', 'Even', 'Odd']\n",
      "['Even', 'Odd', 'Even', 'Odd', 'Even', 'Odd', 'Even', 'Odd', 'Even', 'Odd']\n"
     ]
    }
   ],
   "source": [
    "# Categorize numbers as even or odd\n",
    "categories = []\n",
    "\n",
    "for number in range(10):\n",
    "    if number % 2 == 0:\n",
    "        categories.append(\"Even\")\n",
    "    else:\n",
    "        categories.append(\"Odd\")\n",
    "print(categories)\n",
    "\n",
    "# Note: If there is no else, the if statment can not appear before the for statment!\n",
    "categories = [\"Even\" \n",
    "              if number % 2 == 0 \n",
    "              else \"Odd\"\n",
    "              for number in range(10)]\n",
    "print(categories)"
   ]
  },
  {
   "cell_type": "code",
   "execution_count": 63,
   "metadata": {},
   "outputs": [
    {
     "name": "stdout",
     "output_type": "stream",
     "text": [
      "[[[0, 1, 2, 3, 4], [0, 1, 2, 3, 4], [0, 1, 2, 3, 4], [0, 1, 2, 3, 4], [0, 1, 2, 3, 4]], [[0, 1, 2, 3, 4], [0, 1, 2, 3, 4], [0, 1, 2, 3, 4], [0, 1, 2, 3, 4], [0, 1, 2, 3, 4]], [[0, 1, 2, 3, 4], [0, 1, 2, 3, 4], [0, 1, 2, 3, 4], [0, 1, 2, 3, 4], [0, 1, 2, 3, 4]], [[0, 1, 2, 3, 4], [0, 1, 2, 3, 4], [0, 1, 2, 3, 4], [0, 1, 2, 3, 4], [0, 1, 2, 3, 4]], [[0, 1, 2, 3, 4], [0, 1, 2, 3, 4], [0, 1, 2, 3, 4], [0, 1, 2, 3, 4], [0, 1, 2, 3, 4]]]\n",
      "[[[0, 1, 2, 3, 4], [0, 1, 2, 3, 4], [0, 1, 2, 3, 4], [0, 1, 2, 3, 4], [0, 1, 2, 3, 4]], [[0, 1, 2, 3, 4], [0, 1, 2, 3, 4], [0, 1, 2, 3, 4], [0, 1, 2, 3, 4], [0, 1, 2, 3, 4]], [[0, 1, 2, 3, 4], [0, 1, 2, 3, 4], [0, 1, 2, 3, 4], [0, 1, 2, 3, 4], [0, 1, 2, 3, 4]], [[0, 1, 2, 3, 4], [0, 1, 2, 3, 4], [0, 1, 2, 3, 4], [0, 1, 2, 3, 4], [0, 1, 2, 3, 4]], [[0, 1, 2, 3, 4], [0, 1, 2, 3, 4], [0, 1, 2, 3, 4], [0, 1, 2, 3, 4], [0, 1, 2, 3, 4]]]\n"
     ]
    }
   ],
   "source": [
    "# 3D list\n",
    "import pprint\n",
    "printer = pprint.PrettyPrinter()\n",
    "lst = []\n",
    "for a in range(5):\n",
    "    l1 = []\n",
    "    for b in range(5):\n",
    "        l2 = []\n",
    "        for num in range(5):\n",
    "            l2.append(num)\n",
    "        l1.append(l2)\n",
    "    lst.append(l1)\n",
    "#printer.pprint(lst)\n",
    "print(lst)\n",
    "lst = [[[num for num in range(5)] for _ in range(5)] for _ in range(5)]\n",
    "print(lst)"
   ]
  },
  {
   "cell_type": "code",
   "execution_count": 66,
   "metadata": {},
   "outputs": [
    {
     "name": "stdout",
     "output_type": "stream",
     "text": [
      "[0, 1, 4, 9, 16, 25, 36, 49, 64, 81]\n"
     ]
    }
   ],
   "source": [
    "# list comprehension with functions\n",
    "\n",
    "squared = lambda x : x**2\n",
    "\n",
    "\n",
    "squared_numbers = [squared(x) for x in range(10)]\n",
    "print(squared_numbers)"
   ]
  },
  {
   "cell_type": "code",
   "execution_count": 69,
   "metadata": {},
   "outputs": [
    {
     "name": "stdout",
     "output_type": "stream",
     "text": [
      "{'a': 1, 'b': 2, 'c': 3}\n"
     ]
    }
   ],
   "source": [
    "# Dictionary comprehension\n",
    "pairs = ((\"a\",1),(\"b\",2),(\"c\",3))\n",
    "\n",
    "my_dict = {k:v for k,v in pairs}\n",
    "print(my_dict)"
   ]
  },
  {
   "cell_type": "code",
   "execution_count": 72,
   "metadata": {},
   "outputs": [
    {
     "name": "stdout",
     "output_type": "stream",
     "text": [
      "333332833333500000\n",
      "333332833333500000\n"
     ]
    }
   ],
   "source": [
    "# Generators: Pretty cool stuff. This is a sum generator. The idea is that like this you do not keep in memory a million numbers, but rahter just keep into memory 1 at a time so its more efficient.\n",
    "# Generator-> It gives value only when need to be used. Not storing them..\n",
    "\n",
    "\n",
    "sum_of_squares = sum(x**2 for x in range(1000000))\n",
    "print(sum_of_squares)\n",
    "\n",
    "# Now, this will generate every possible value and stored them then sum. Less efficient!!!!\n",
    "sum_of_squares = sum([x**2 for x in range(1000000)])\n",
    "print(sum_of_squares)"
   ]
  }
 ],
 "metadata": {
  "kernelspec": {
   "display_name": "eco",
   "language": "python",
   "name": "python3"
  },
  "language_info": {
   "codemirror_mode": {
    "name": "ipython",
    "version": 3
   },
   "file_extension": ".py",
   "mimetype": "text/x-python",
   "name": "python",
   "nbconvert_exporter": "python",
   "pygments_lexer": "ipython3",
   "version": "3.9.19"
  }
 },
 "nbformat": 4,
 "nbformat_minor": 2
}
